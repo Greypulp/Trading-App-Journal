{
 "cells": [
  {
   "cell_type": "markdown",
   "id": "b1424e2e",
   "metadata": {},
   "source": [
    "# Backtest Dashboard for Trading Strategies\n",
    "\n",
    "This notebook provides an interactive dashboard to backtest trading strategies using historical data. You can upload your own data, set risk and exposure parameters, and visualize performance metrics.\n",
    "\n",
    "---\n",
    "\n",
    "**Outline:**\n",
    "1. Import Required Libraries\n",
    "2. Load Historical Data\n",
    "3. Define Backtest Strategy\n",
    "4. Run Backtest Simulation\n",
    "5. Visualize Performance Metrics\n",
    "6. Create Interactive Dashboard with Widgets"
   ]
  },
  {
   "cell_type": "code",
   "execution_count": 1,
   "id": "20f1fa9e",
   "metadata": {},
   "outputs": [],
   "source": [
    "# 1. Import Required Libraries\n",
    "import pandas as pd\n",
    "import numpy as np\n",
    "import matplotlib.pyplot as plt\n",
    "import plotly.graph_objs as go\n",
    "from ipywidgets import interact, FloatSlider, IntSlider, Dropdown, FileUpload, VBox, HBox, Output\n",
    "from io import StringIO, BytesIO\n",
    "import warnings\n",
    "warnings.filterwarnings('ignore')"
   ]
  },
  {
   "cell_type": "markdown",
   "id": "975a0347",
   "metadata": {},
   "source": [
    "## 2. Load Historical Data\n",
    "Upload a CSV file with historical price data (columns: Date, Open, High, Low, Close, Volume)."
   ]
  },
  {
   "cell_type": "code",
   "execution_count": 2,
   "id": "8aa778c1",
   "metadata": {},
   "outputs": [
    {
     "data": {
      "application/vnd.jupyter.widget-view+json": {
       "model_id": "323ec2cf5c924d65aa9e5e66a05cb398",
       "version_major": 2,
       "version_minor": 0
      },
      "text/plain": [
       "FileUpload(value=(), accept='.csv', description='Upload')"
      ]
     },
     "metadata": {},
     "output_type": "display_data"
    }
   ],
   "source": [
    "# File upload widget for CSV data\n",
    "def load_data_from_upload(upload_widget):\n",
    "    if len(upload_widget.value) == 0:\n",
    "        return None\n",
    "    uploaded_file = list(upload_widget.value.values())[0]\n",
    "    content = uploaded_file['content']\n",
    "    df = pd.read_csv(BytesIO(content))\n",
    "    # Try to parse date column\n",
    "    for col in ['Date', 'date', 'Time', 'time']:\n",
    "        if col in df.columns:\n",
    "            df[col] = pd.to_datetime(df[col])\n",
    "            df.set_index(col, inplace=True)\n",
    "            break\n",
    "    return df\n",
    "\n",
    "upload = FileUpload(accept='.csv', multiple=False)\n",
    "display(upload)\n",
    "data = None\n",
    "if upload.value:\n",
    "    data = load_data_from_upload(upload)\n",
    "    display(data.head())"
   ]
  },
  {
   "cell_type": "markdown",
   "id": "587025ad",
   "metadata": {},
   "source": [
    "## 3. Define Backtest Strategy\n",
    "Implement a simple moving average crossover strategy as an example."
   ]
  },
  {
   "cell_type": "code",
   "execution_count": 3,
   "id": "d582bddd",
   "metadata": {},
   "outputs": [],
   "source": [
    "# Simple Moving Average Crossover Strategy\n",
    "def sma_crossover_strategy(df, fast=10, slow=30):\n",
    "    df = df.copy()\n",
    "    df['fast_ma'] = df['Close'].rolling(fast).mean()\n",
    "    df['slow_ma'] = df['Close'].rolling(slow).mean()\n",
    "    df['signal'] = 0\n",
    "    df['signal'][fast:] = np.where(df['fast_ma'][fast:] > df['slow_ma'][fast:], 1, -1)\n",
    "    df['position'] = df['signal'].shift(1)\n",
    "    return df"
   ]
  },
  {
   "cell_type": "markdown",
   "id": "9e4d1dc9",
   "metadata": {},
   "source": [
    "## 4. Run Backtest Simulation\n",
    "Apply the strategy to the historical data and calculate performance metrics."
   ]
  },
  {
   "cell_type": "code",
   "execution_count": 4,
   "id": "11722d0e",
   "metadata": {},
   "outputs": [],
   "source": [
    "# Run backtest and calculate performance metrics\n",
    "def run_backtest(df, fast=10, slow=30):\n",
    "    df_bt = sma_crossover_strategy(df, fast, slow)\n",
    "    df_bt['returns'] = df_bt['Close'].pct_change() * df_bt['position']\n",
    "    df_bt['equity_curve'] = (1 + df_bt['returns']).cumprod()\n",
    "    df_bt['drawdown'] = df_bt['equity_curve'] / df_bt['equity_curve'].cummax() - 1\n",
    "    sharpe = np.sqrt(252) * df_bt['returns'].mean() / df_bt['returns'].std() if df_bt['returns'].std() != 0 else 0\n",
    "    max_dd = df_bt['drawdown'].min()\n",
    "    return df_bt, sharpe, max_dd\n",
    "\n",
    "# Example usage (if data is loaded):\n",
    "if data is not None:\n",
    "    df_bt, sharpe, max_dd = run_backtest(data)\n",
    "    print(f\"Sharpe Ratio: {sharpe:.2f}, Max Drawdown: {max_dd:.2%}\")"
   ]
  },
  {
   "cell_type": "markdown",
   "id": "70ae0a57",
   "metadata": {},
   "source": [
    "## 5. Visualize Performance Metrics\n",
    "Plot equity curve, drawdown, and other relevant charts."
   ]
  },
  {
   "cell_type": "code",
   "execution_count": 5,
   "id": "c7c064ad",
   "metadata": {},
   "outputs": [],
   "source": [
    "# Plot equity curve and drawdown\n",
    "if data is not None:\n",
    "    fig = go.Figure()\n",
    "    fig.add_trace(go.Scatter(x=df_bt.index, y=df_bt['equity_curve'], mode='lines', name='Equity Curve'))\n",
    "    fig.update_layout(title='Equity Curve', xaxis_title='Date', yaxis_title='Equity')\n",
    "    fig.show()\n",
    "    \n",
    "    fig2 = go.Figure()\n",
    "    fig2.add_trace(go.Scatter(x=df_bt.index, y=df_bt['drawdown'], mode='lines', name='Drawdown'))\n",
    "    fig2.update_layout(title='Drawdown', xaxis_title='Date', yaxis_title='Drawdown')\n",
    "    fig2.show()"
   ]
  },
  {
   "cell_type": "markdown",
   "id": "45c081fc",
   "metadata": {},
   "source": [
    "## 6. Create Interactive Dashboard with Widgets\n",
    "Use ipywidgets to add interactive controls for strategy parameters and dynamically update the backtest results and visualizations."
   ]
  },
  {
   "cell_type": "code",
   "execution_count": 6,
   "id": "845d5ccd",
   "metadata": {},
   "outputs": [
    {
     "data": {
      "application/vnd.jupyter.widget-view+json": {
       "model_id": "9cf82dc86cef4dc5b72ca9d7d07efaa2",
       "version_major": 2,
       "version_minor": 0
      },
      "text/plain": [
       "interactive(children=(IntSlider(value=10, description='Fast MA', max=50, min=5), IntSlider(value=30, descripti…"
      ]
     },
     "metadata": {},
     "output_type": "display_data"
    },
    {
     "data": {
      "text/plain": [
       "<function __main__.update_backtest(fast, slow)>"
      ]
     },
     "execution_count": 6,
     "metadata": {},
     "output_type": "execute_result"
    }
   ],
   "source": [
    "# Interactive controls for strategy parameters\n",
    "def update_backtest(fast, slow):\n",
    "    if data is not None:\n",
    "        df_bt, sharpe, max_dd = run_backtest(data, fast, slow)\n",
    "        print(f\"Sharpe Ratio: {sharpe:.2f}, Max Drawdown: {max_dd:.2%}\")\n",
    "        fig = go.Figure()\n",
    "        fig.add_trace(go.Scatter(x=df_bt.index, y=df_bt['equity_curve'], mode='lines', name='Equity Curve'))\n",
    "        fig.update_layout(title='Equity Curve', xaxis_title='Date', yaxis_title='Equity')\n",
    "        fig.show()\n",
    "        fig2 = go.Figure()\n",
    "        fig2.add_trace(go.Scatter(x=df_bt.index, y=df_bt['drawdown'], mode='lines', name='Drawdown'))\n",
    "        fig2.update_layout(title='Drawdown', xaxis_title='Date', yaxis_title='Drawdown')\n",
    "        fig2.show()\n",
    "\n",
    "interact(update_backtest,\n",
    "         fast=IntSlider(min=5, max=50, step=1, value=10, description='Fast MA'),\n",
    "         slow=IntSlider(min=10, max=100, step=1, value=30, description='Slow MA'))"
   ]
  },
  {
   "cell_type": "code",
   "execution_count": 7,
   "id": "208ee2df",
   "metadata": {},
   "outputs": [],
   "source": [
    "# --- Pivot-based Backtest Function (Bot Logic) ---\n",
    "def find_pivots(df, L=15, R=10):\n",
    "    h = df['High'].values; l = df['Low'].values; n = len(df)\n",
    "    piv_hi = [False]*n; piv_lo = [False]*n\n",
    "    for i in range(L, n-R):\n",
    "        window_h = h[i-L:i+R+1]; window_l = l[i-L:i+R+1]\n",
    "        if np.nanmax(window_h) == h[i] and (window_h==h[i]).sum()==1:\n",
    "            piv_hi[i] = True\n",
    "        if np.nanmin(window_l) == l[i] and (window_l==l[i]).sum()==1:\n",
    "            piv_lo[i] = True\n",
    "    return np.array(piv_hi), np.array(piv_lo)\n",
    "\n",
    "def pivot_bot_backtest(df, swing_L=15, swing_R=10, sl_pips=50, tp_mult=2.0, risk_pct=0.5, initial_balance=10000):\n",
    "    df = df.copy()\n",
    "    df = df[(df.index >= '2025-08-01') & (df.index < '2025-09-01')]\n",
    "    piv_hi, piv_lo = find_pivots(df, swing_L, swing_R)\n",
    "    trades = []\n",
    "    balance = initial_balance\n",
    "    equity_curve = [balance]\n",
    "    for i in range(len(df)-1):\n",
    "        # Entry on pivot low (buy) or pivot high (sell)\n",
    "        if piv_lo[i]:\n",
    "            entry = df['Close'].iloc[i]\n",
    "            sl = entry - sl_pips * 0.1  # Assume pip=0.1 for XAUUSD\n",
    "            tp = entry + sl_pips * tp_mult * 0.1\n",
    "            risk_amt = balance * (risk_pct/100)\n",
    "            lot = risk_amt / (sl_pips * 0.1)\n",
    "            # Simulate outcome\n",
    "            future = df['Low'].iloc[i+1:i+20]\n",
    "            if (future < sl).any():\n",
    "                pnl = -risk_amt\n",
    "                trades.append(pnl)\n",
    "            elif (df['High'].iloc[i+1:i+20] > tp).any():\n",
    "                pnl = (tp-entry)/entry * balance\n",
    "                trades.append(pnl)\n",
    "            else:\n",
    "                pnl = 0\n",
    "                trades.append(pnl)\n",
    "            balance += pnl\n",
    "            equity_curve.append(balance)\n",
    "        elif piv_hi[i]:\n",
    "            entry = df['Close'].iloc[i]\n",
    "            sl = entry + sl_pips * 0.1\n",
    "            tp = entry - sl_pips * tp_mult * 0.1\n",
    "            risk_amt = balance * (risk_pct/100)\n",
    "            lot = risk_amt / (sl_pips * 0.1)\n",
    "            future = df['High'].iloc[i+1:i+20]\n",
    "            if (future > sl).any():\n",
    "                pnl = -risk_amt\n",
    "                trades.append(pnl)\n",
    "            elif (df['Low'].iloc[i+1:i+20] < tp).any():\n",
    "                pnl = (entry-tp)/entry * balance\n",
    "                trades.append(pnl)\n",
    "            else:\n",
    "                pnl = 0\n",
    "                trades.append(pnl)\n",
    "            balance += pnl\n",
    "            equity_curve.append(balance)\n",
    "    trades = np.array(trades)\n",
    "    wins = (trades > 0).sum()\n",
    "    losses = (trades < 0).sum()\n",
    "    win_rate = wins / (wins + losses) if (wins + losses) > 0 else 0\n",
    "    lose_rate = losses / (wins + losses) if (wins + losses) > 0 else 0\n",
    "    return equity_curve, win_rate, lose_rate, trades"
   ]
  },
  {
   "cell_type": "code",
   "execution_count": 8,
   "id": "81763058",
   "metadata": {},
   "outputs": [],
   "source": [
    "# Example: Run pivot bot backtest for August 2025 and show results\n",
    "if data is not None:\n",
    "    equity_curve, win_rate, lose_rate, trades = pivot_bot_backtest(data)\n",
    "    print(f\"Win rate: {win_rate:.2%}, Lose rate: {lose_rate:.2%}\")\n",
    "    import matplotlib.pyplot as plt\n",
    "    plt.figure(figsize=(10,4))\n",
    "    plt.plot(equity_curve)\n",
    "    plt.title('Account Growth (Equity Curve) - August 2025')\n",
    "    plt.xlabel('Trade #')\n",
    "    plt.ylabel('Equity')\n",
    "    plt.grid(True)\n",
    "    plt.show()"
   ]
  },
  {
   "cell_type": "code",
   "execution_count": 9,
   "id": "3b9c29cc",
   "metadata": {},
   "outputs": [
    {
     "name": "stdout",
     "output_type": "stream",
     "text": [
      "Saved XAUUSD_Aug2025_M15.csv\n"
     ]
    }
   ],
   "source": [
    "# Download XAUUSD M15 data for August 2025 from MT5 and save as CSV\n",
    "import MetaTrader5 as mt5\n",
    "from datetime import datetime\n",
    "import pandas as pd\n",
    "\n",
    "# Connect to MT5 (make sure MT5 terminal is running and logged in)\n",
    "if not mt5.initialize():\n",
    "    raise RuntimeError('MT5 initialize failed')\n",
    "\n",
    "symbol = 'XAUUSD'\n",
    "timeframe = mt5.TIMEFRAME_M15\n",
    "from_date = datetime(2025, 8, 1)\n",
    "to_date = datetime(2025, 9, 1)\n",
    "\n",
    "rates = mt5.copy_rates_range(symbol, timeframe, from_date, to_date)\n",
    "if rates is None or len(rates) == 0:\n",
    "    raise RuntimeError('No data downloaded. Check symbol and connection.')\n",
    "\n",
    "df = pd.DataFrame(rates)\n",
    "df['time'] = pd.to_datetime(df['time'], unit='s')\n",
    "df.set_index('time', inplace=True)\n",
    "df = df[['open', 'high', 'low', 'close', 'tick_volume']]\n",
    "df.columns = ['Open', 'High', 'Low', 'Close', 'Volume']\n",
    "\n",
    "# Save to CSV\n",
    "df.to_csv('XAUUSD_Aug2025_M15.csv')\n",
    "print('Saved XAUUSD_Aug2025_M15.csv')"
   ]
  }
 ],
 "metadata": {
  "kernelspec": {
   "display_name": ".venv",
   "language": "python",
   "name": "python3"
  },
  "language_info": {
   "codemirror_mode": {
    "name": "ipython",
    "version": 3
   },
   "file_extension": ".py",
   "mimetype": "text/x-python",
   "name": "python",
   "nbconvert_exporter": "python",
   "pygments_lexer": "ipython3",
   "version": "3.12.10"
  }
 },
 "nbformat": 4,
 "nbformat_minor": 5
}
